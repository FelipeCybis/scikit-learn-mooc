{
 "cells": [
  {
   "cell_type": "markdown",
   "metadata": {},
   "source": [
    "# 📝 Exercise M7.02\n",
    "\n",
    "We presented different classification metrics in the previous notebook.\n",
    "However, we did not use it with a cross-validation. This exercise aims at\n",
    "practicing and implementing cross-validation.\n",
    "\n",
    "We will reuse the blood transfusion dataset."
   ]
  },
  {
   "cell_type": "code",
   "execution_count": 1,
   "metadata": {},
   "outputs": [],
   "source": [
    "import pandas as pd\n",
    "\n",
    "blood_transfusion = pd.read_csv(\"../datasets/blood_transfusion.csv\")\n",
    "data = blood_transfusion.drop(columns=\"Class\")\n",
    "target = blood_transfusion[\"Class\"]"
   ]
  },
  {
   "cell_type": "markdown",
   "metadata": {},
   "source": [
    "<div class=\"admonition note alert alert-info\">\n",
    "<p class=\"first admonition-title\" style=\"font-weight: bold;\">Note</p>\n",
    "<p class=\"last\">If you want a deeper overview regarding this dataset, you can refer to the\n",
    "Appendix - Datasets description section at the end of this MOOC.</p>\n",
    "</div>"
   ]
  },
  {
   "cell_type": "markdown",
   "metadata": {},
   "source": [
    "First, create a decision tree classifier."
   ]
  },
  {
   "cell_type": "code",
   "execution_count": 2,
   "metadata": {},
   "outputs": [],
   "source": [
    "# Write your code here.\n",
    "from sklearn.tree import DecisionTreeClassifier\n",
    "\n",
    "classifier = DecisionTreeClassifier()"
   ]
  },
  {
   "cell_type": "markdown",
   "metadata": {},
   "source": [
    "Create a `StratifiedKFold` cross-validation object. Then use it inside the\n",
    "`cross_val_score` function to evaluate the decision tree. We will first use\n",
    "the accuracy as a score function. Explicitly use the `scoring` parameter\n",
    "of `cross_val_score` to compute the accuracy (even if this is the default\n",
    "score). Check its documentation to learn how to do that."
   ]
  },
  {
   "cell_type": "code",
   "execution_count": 3,
   "metadata": {},
   "outputs": [
    {
     "name": "stdout",
     "output_type": "stream",
     "text": [
      "Accuracy score: 0.597 ± 0.102\n"
     ]
    }
   ],
   "source": [
    "# Write your code here.\n",
    "from sklearn.model_selection import StratifiedKFold, cross_val_score\n",
    "\n",
    "cv = StratifiedKFold()\n",
    "\n",
    "scores = cross_val_score(classifier, data, target, cv=cv, scoring=\"accuracy\")\n",
    "print(f\"Accuracy score: {scores.mean():.3f} ± {scores.std():.3f}\")"
   ]
  },
  {
   "cell_type": "markdown",
   "metadata": {},
   "source": [
    "Repeat the experiment by computing the `balanced_accuracy`."
   ]
  },
  {
   "cell_type": "code",
   "execution_count": 4,
   "metadata": {},
   "outputs": [
    {
     "name": "stdout",
     "output_type": "stream",
     "text": [
      "Accuracy score: 0.515 ± 0.061\n"
     ]
    }
   ],
   "source": [
    "# Write your code here.\n",
    "classifier = DecisionTreeClassifier()\n",
    "cv = StratifiedKFold()\n",
    "\n",
    "scores = cross_val_score(classifier, data, target, cv=cv, scoring=\"balanced_accuracy\")\n",
    "print(f\"Accuracy score: {scores.mean():.3f} ± {scores.std():.3f}\")"
   ]
  },
  {
   "cell_type": "markdown",
   "metadata": {},
   "source": [
    "We will now add a bit of complexity. We would like to compute the precision\n",
    "of our model. However, during the course we saw that we need to mention the\n",
    "positive label which in our case we consider to be the class `donated`.\n",
    "\n",
    "We will show that computing the precision without providing the positive\n",
    "label will not be supported by scikit-learn because it is indeed ambiguous."
   ]
  },
  {
   "cell_type": "code",
   "execution_count": 5,
   "metadata": {},
   "outputs": [
    {
     "name": "stderr",
     "output_type": "stream",
     "text": [
      "c:\\Users\\Felipe\\anaconda3\\envs\\scikit-learn-course\\Lib\\site-packages\\sklearn\\model_selection\\_validation.py:776: UserWarning: Scoring failed. The score on this train-test partition for these parameters will be set to nan. Details: \n",
      "Traceback (most recent call last):\n",
      "  File \"c:\\Users\\Felipe\\anaconda3\\envs\\scikit-learn-course\\Lib\\site-packages\\sklearn\\model_selection\\_validation.py\", line 767, in _score\n",
      "    scores = scorer(estimator, X_test, y_test)\n",
      "             ^^^^^^^^^^^^^^^^^^^^^^^^^^^^^^^^^\n",
      "  File \"c:\\Users\\Felipe\\anaconda3\\envs\\scikit-learn-course\\Lib\\site-packages\\sklearn\\metrics\\_scorer.py\", line 106, in __call__\n",
      "    score = scorer._score(cached_call, estimator, *args, **kwargs)\n",
      "            ^^^^^^^^^^^^^^^^^^^^^^^^^^^^^^^^^^^^^^^^^^^^^^^^^^^^^^\n",
      "  File \"c:\\Users\\Felipe\\anaconda3\\envs\\scikit-learn-course\\Lib\\site-packages\\sklearn\\metrics\\_scorer.py\", line 267, in _score\n",
      "    return self._sign * self._score_func(y_true, y_pred, **self._kwargs)\n",
      "                        ^^^^^^^^^^^^^^^^^^^^^^^^^^^^^^^^^^^^^^^^^^^^^^^^\n",
      "  File \"c:\\Users\\Felipe\\anaconda3\\envs\\scikit-learn-course\\Lib\\site-packages\\sklearn\\metrics\\_classification.py\", line 1776, in precision_score\n",
      "    p, _, _, _ = precision_recall_fscore_support(\n",
      "                 ^^^^^^^^^^^^^^^^^^^^^^^^^^^^^^^^\n",
      "  File \"c:\\Users\\Felipe\\anaconda3\\envs\\scikit-learn-course\\Lib\\site-packages\\sklearn\\metrics\\_classification.py\", line 1563, in precision_recall_fscore_support\n",
      "    labels = _check_set_wise_labels(y_true, y_pred, average, labels, pos_label)\n",
      "             ^^^^^^^^^^^^^^^^^^^^^^^^^^^^^^^^^^^^^^^^^^^^^^^^^^^^^^^^^^^^^^^^^^\n",
      "  File \"c:\\Users\\Felipe\\anaconda3\\envs\\scikit-learn-course\\Lib\\site-packages\\sklearn\\metrics\\_classification.py\", line 1372, in _check_set_wise_labels\n",
      "    raise ValueError(\n",
      "ValueError: pos_label=1 is not a valid label. It should be one of ['donated', 'not donated']\n",
      "\n",
      "  warnings.warn(\n",
      "c:\\Users\\Felipe\\anaconda3\\envs\\scikit-learn-course\\Lib\\site-packages\\sklearn\\model_selection\\_validation.py:776: UserWarning: Scoring failed. The score on this train-test partition for these parameters will be set to nan. Details: \n",
      "Traceback (most recent call last):\n",
      "  File \"c:\\Users\\Felipe\\anaconda3\\envs\\scikit-learn-course\\Lib\\site-packages\\sklearn\\model_selection\\_validation.py\", line 767, in _score\n",
      "    scores = scorer(estimator, X_test, y_test)\n",
      "             ^^^^^^^^^^^^^^^^^^^^^^^^^^^^^^^^^\n",
      "  File \"c:\\Users\\Felipe\\anaconda3\\envs\\scikit-learn-course\\Lib\\site-packages\\sklearn\\metrics\\_scorer.py\", line 106, in __call__\n",
      "    score = scorer._score(cached_call, estimator, *args, **kwargs)\n",
      "            ^^^^^^^^^^^^^^^^^^^^^^^^^^^^^^^^^^^^^^^^^^^^^^^^^^^^^^\n",
      "  File \"c:\\Users\\Felipe\\anaconda3\\envs\\scikit-learn-course\\Lib\\site-packages\\sklearn\\metrics\\_scorer.py\", line 267, in _score\n",
      "    return self._sign * self._score_func(y_true, y_pred, **self._kwargs)\n",
      "                        ^^^^^^^^^^^^^^^^^^^^^^^^^^^^^^^^^^^^^^^^^^^^^^^^\n",
      "  File \"c:\\Users\\Felipe\\anaconda3\\envs\\scikit-learn-course\\Lib\\site-packages\\sklearn\\metrics\\_classification.py\", line 1776, in precision_score\n",
      "    p, _, _, _ = precision_recall_fscore_support(\n",
      "                 ^^^^^^^^^^^^^^^^^^^^^^^^^^^^^^^^\n",
      "  File \"c:\\Users\\Felipe\\anaconda3\\envs\\scikit-learn-course\\Lib\\site-packages\\sklearn\\metrics\\_classification.py\", line 1563, in precision_recall_fscore_support\n",
      "    labels = _check_set_wise_labels(y_true, y_pred, average, labels, pos_label)\n",
      "             ^^^^^^^^^^^^^^^^^^^^^^^^^^^^^^^^^^^^^^^^^^^^^^^^^^^^^^^^^^^^^^^^^^\n",
      "  File \"c:\\Users\\Felipe\\anaconda3\\envs\\scikit-learn-course\\Lib\\site-packages\\sklearn\\metrics\\_classification.py\", line 1372, in _check_set_wise_labels\n",
      "    raise ValueError(\n",
      "ValueError: pos_label=1 is not a valid label. It should be one of ['donated', 'not donated']\n",
      "\n",
      "  warnings.warn(\n",
      "c:\\Users\\Felipe\\anaconda3\\envs\\scikit-learn-course\\Lib\\site-packages\\sklearn\\model_selection\\_validation.py:776: UserWarning: Scoring failed. The score on this train-test partition for these parameters will be set to nan. Details: \n",
      "Traceback (most recent call last):\n",
      "  File \"c:\\Users\\Felipe\\anaconda3\\envs\\scikit-learn-course\\Lib\\site-packages\\sklearn\\model_selection\\_validation.py\", line 767, in _score\n",
      "    scores = scorer(estimator, X_test, y_test)\n",
      "             ^^^^^^^^^^^^^^^^^^^^^^^^^^^^^^^^^\n",
      "  File \"c:\\Users\\Felipe\\anaconda3\\envs\\scikit-learn-course\\Lib\\site-packages\\sklearn\\metrics\\_scorer.py\", line 106, in __call__\n",
      "    score = scorer._score(cached_call, estimator, *args, **kwargs)\n",
      "            ^^^^^^^^^^^^^^^^^^^^^^^^^^^^^^^^^^^^^^^^^^^^^^^^^^^^^^\n",
      "  File \"c:\\Users\\Felipe\\anaconda3\\envs\\scikit-learn-course\\Lib\\site-packages\\sklearn\\metrics\\_scorer.py\", line 267, in _score\n",
      "    return self._sign * self._score_func(y_true, y_pred, **self._kwargs)\n",
      "                        ^^^^^^^^^^^^^^^^^^^^^^^^^^^^^^^^^^^^^^^^^^^^^^^^\n",
      "  File \"c:\\Users\\Felipe\\anaconda3\\envs\\scikit-learn-course\\Lib\\site-packages\\sklearn\\metrics\\_classification.py\", line 1776, in precision_score\n",
      "    p, _, _, _ = precision_recall_fscore_support(\n",
      "                 ^^^^^^^^^^^^^^^^^^^^^^^^^^^^^^^^\n",
      "  File \"c:\\Users\\Felipe\\anaconda3\\envs\\scikit-learn-course\\Lib\\site-packages\\sklearn\\metrics\\_classification.py\", line 1563, in precision_recall_fscore_support\n",
      "    labels = _check_set_wise_labels(y_true, y_pred, average, labels, pos_label)\n",
      "             ^^^^^^^^^^^^^^^^^^^^^^^^^^^^^^^^^^^^^^^^^^^^^^^^^^^^^^^^^^^^^^^^^^\n",
      "  File \"c:\\Users\\Felipe\\anaconda3\\envs\\scikit-learn-course\\Lib\\site-packages\\sklearn\\metrics\\_classification.py\", line 1372, in _check_set_wise_labels\n",
      "    raise ValueError(\n",
      "ValueError: pos_label=1 is not a valid label. It should be one of ['donated', 'not donated']\n",
      "\n",
      "  warnings.warn(\n",
      "c:\\Users\\Felipe\\anaconda3\\envs\\scikit-learn-course\\Lib\\site-packages\\sklearn\\model_selection\\_validation.py:776: UserWarning: Scoring failed. The score on this train-test partition for these parameters will be set to nan. Details: \n",
      "Traceback (most recent call last):\n",
      "  File \"c:\\Users\\Felipe\\anaconda3\\envs\\scikit-learn-course\\Lib\\site-packages\\sklearn\\model_selection\\_validation.py\", line 767, in _score\n",
      "    scores = scorer(estimator, X_test, y_test)\n",
      "             ^^^^^^^^^^^^^^^^^^^^^^^^^^^^^^^^^\n",
      "  File \"c:\\Users\\Felipe\\anaconda3\\envs\\scikit-learn-course\\Lib\\site-packages\\sklearn\\metrics\\_scorer.py\", line 106, in __call__\n",
      "    score = scorer._score(cached_call, estimator, *args, **kwargs)\n",
      "            ^^^^^^^^^^^^^^^^^^^^^^^^^^^^^^^^^^^^^^^^^^^^^^^^^^^^^^\n",
      "  File \"c:\\Users\\Felipe\\anaconda3\\envs\\scikit-learn-course\\Lib\\site-packages\\sklearn\\metrics\\_scorer.py\", line 267, in _score\n",
      "    return self._sign * self._score_func(y_true, y_pred, **self._kwargs)\n",
      "                        ^^^^^^^^^^^^^^^^^^^^^^^^^^^^^^^^^^^^^^^^^^^^^^^^\n",
      "  File \"c:\\Users\\Felipe\\anaconda3\\envs\\scikit-learn-course\\Lib\\site-packages\\sklearn\\metrics\\_classification.py\", line 1776, in precision_score\n",
      "    p, _, _, _ = precision_recall_fscore_support(\n",
      "                 ^^^^^^^^^^^^^^^^^^^^^^^^^^^^^^^^\n",
      "  File \"c:\\Users\\Felipe\\anaconda3\\envs\\scikit-learn-course\\Lib\\site-packages\\sklearn\\metrics\\_classification.py\", line 1563, in precision_recall_fscore_support\n",
      "    labels = _check_set_wise_labels(y_true, y_pred, average, labels, pos_label)\n",
      "             ^^^^^^^^^^^^^^^^^^^^^^^^^^^^^^^^^^^^^^^^^^^^^^^^^^^^^^^^^^^^^^^^^^\n",
      "  File \"c:\\Users\\Felipe\\anaconda3\\envs\\scikit-learn-course\\Lib\\site-packages\\sklearn\\metrics\\_classification.py\", line 1372, in _check_set_wise_labels\n",
      "    raise ValueError(\n",
      "ValueError: pos_label=1 is not a valid label. It should be one of ['donated', 'not donated']\n",
      "\n",
      "  warnings.warn(\n",
      "c:\\Users\\Felipe\\anaconda3\\envs\\scikit-learn-course\\Lib\\site-packages\\sklearn\\model_selection\\_validation.py:776: UserWarning: Scoring failed. The score on this train-test partition for these parameters will be set to nan. Details: \n",
      "Traceback (most recent call last):\n",
      "  File \"c:\\Users\\Felipe\\anaconda3\\envs\\scikit-learn-course\\Lib\\site-packages\\sklearn\\model_selection\\_validation.py\", line 767, in _score\n",
      "    scores = scorer(estimator, X_test, y_test)\n",
      "             ^^^^^^^^^^^^^^^^^^^^^^^^^^^^^^^^^\n",
      "  File \"c:\\Users\\Felipe\\anaconda3\\envs\\scikit-learn-course\\Lib\\site-packages\\sklearn\\metrics\\_scorer.py\", line 106, in __call__\n",
      "    score = scorer._score(cached_call, estimator, *args, **kwargs)\n",
      "            ^^^^^^^^^^^^^^^^^^^^^^^^^^^^^^^^^^^^^^^^^^^^^^^^^^^^^^\n",
      "  File \"c:\\Users\\Felipe\\anaconda3\\envs\\scikit-learn-course\\Lib\\site-packages\\sklearn\\metrics\\_scorer.py\", line 267, in _score\n",
      "    return self._sign * self._score_func(y_true, y_pred, **self._kwargs)\n",
      "                        ^^^^^^^^^^^^^^^^^^^^^^^^^^^^^^^^^^^^^^^^^^^^^^^^\n",
      "  File \"c:\\Users\\Felipe\\anaconda3\\envs\\scikit-learn-course\\Lib\\site-packages\\sklearn\\metrics\\_classification.py\", line 1776, in precision_score\n",
      "    p, _, _, _ = precision_recall_fscore_support(\n",
      "                 ^^^^^^^^^^^^^^^^^^^^^^^^^^^^^^^^\n",
      "  File \"c:\\Users\\Felipe\\anaconda3\\envs\\scikit-learn-course\\Lib\\site-packages\\sklearn\\metrics\\_classification.py\", line 1563, in precision_recall_fscore_support\n",
      "    labels = _check_set_wise_labels(y_true, y_pred, average, labels, pos_label)\n",
      "             ^^^^^^^^^^^^^^^^^^^^^^^^^^^^^^^^^^^^^^^^^^^^^^^^^^^^^^^^^^^^^^^^^^\n",
      "  File \"c:\\Users\\Felipe\\anaconda3\\envs\\scikit-learn-course\\Lib\\site-packages\\sklearn\\metrics\\_classification.py\", line 1372, in _check_set_wise_labels\n",
      "    raise ValueError(\n",
      "ValueError: pos_label=1 is not a valid label. It should be one of ['donated', 'not donated']\n",
      "\n",
      "  warnings.warn(\n",
      "c:\\Users\\Felipe\\anaconda3\\envs\\scikit-learn-course\\Lib\\site-packages\\sklearn\\model_selection\\_validation.py:776: UserWarning: Scoring failed. The score on this train-test partition for these parameters will be set to nan. Details: \n",
      "Traceback (most recent call last):\n",
      "  File \"c:\\Users\\Felipe\\anaconda3\\envs\\scikit-learn-course\\Lib\\site-packages\\sklearn\\model_selection\\_validation.py\", line 767, in _score\n",
      "    scores = scorer(estimator, X_test, y_test)\n",
      "             ^^^^^^^^^^^^^^^^^^^^^^^^^^^^^^^^^\n",
      "  File \"c:\\Users\\Felipe\\anaconda3\\envs\\scikit-learn-course\\Lib\\site-packages\\sklearn\\metrics\\_scorer.py\", line 106, in __call__\n",
      "    score = scorer._score(cached_call, estimator, *args, **kwargs)\n",
      "            ^^^^^^^^^^^^^^^^^^^^^^^^^^^^^^^^^^^^^^^^^^^^^^^^^^^^^^\n",
      "  File \"c:\\Users\\Felipe\\anaconda3\\envs\\scikit-learn-course\\Lib\\site-packages\\sklearn\\metrics\\_scorer.py\", line 267, in _score\n",
      "    return self._sign * self._score_func(y_true, y_pred, **self._kwargs)\n",
      "                        ^^^^^^^^^^^^^^^^^^^^^^^^^^^^^^^^^^^^^^^^^^^^^^^^\n",
      "  File \"c:\\Users\\Felipe\\anaconda3\\envs\\scikit-learn-course\\Lib\\site-packages\\sklearn\\metrics\\_classification.py\", line 1776, in precision_score\n",
      "    p, _, _, _ = precision_recall_fscore_support(\n",
      "                 ^^^^^^^^^^^^^^^^^^^^^^^^^^^^^^^^\n",
      "  File \"c:\\Users\\Felipe\\anaconda3\\envs\\scikit-learn-course\\Lib\\site-packages\\sklearn\\metrics\\_classification.py\", line 1563, in precision_recall_fscore_support\n",
      "    labels = _check_set_wise_labels(y_true, y_pred, average, labels, pos_label)\n",
      "             ^^^^^^^^^^^^^^^^^^^^^^^^^^^^^^^^^^^^^^^^^^^^^^^^^^^^^^^^^^^^^^^^^^\n",
      "  File \"c:\\Users\\Felipe\\anaconda3\\envs\\scikit-learn-course\\Lib\\site-packages\\sklearn\\metrics\\_classification.py\", line 1372, in _check_set_wise_labels\n",
      "    raise ValueError(\n",
      "ValueError: pos_label=1 is not a valid label. It should be one of ['donated', 'not donated']\n",
      "\n",
      "  warnings.warn(\n",
      "c:\\Users\\Felipe\\anaconda3\\envs\\scikit-learn-course\\Lib\\site-packages\\sklearn\\model_selection\\_validation.py:776: UserWarning: Scoring failed. The score on this train-test partition for these parameters will be set to nan. Details: \n",
      "Traceback (most recent call last):\n",
      "  File \"c:\\Users\\Felipe\\anaconda3\\envs\\scikit-learn-course\\Lib\\site-packages\\sklearn\\model_selection\\_validation.py\", line 767, in _score\n",
      "    scores = scorer(estimator, X_test, y_test)\n",
      "             ^^^^^^^^^^^^^^^^^^^^^^^^^^^^^^^^^\n",
      "  File \"c:\\Users\\Felipe\\anaconda3\\envs\\scikit-learn-course\\Lib\\site-packages\\sklearn\\metrics\\_scorer.py\", line 106, in __call__\n",
      "    score = scorer._score(cached_call, estimator, *args, **kwargs)\n",
      "            ^^^^^^^^^^^^^^^^^^^^^^^^^^^^^^^^^^^^^^^^^^^^^^^^^^^^^^\n",
      "  File \"c:\\Users\\Felipe\\anaconda3\\envs\\scikit-learn-course\\Lib\\site-packages\\sklearn\\metrics\\_scorer.py\", line 267, in _score\n",
      "    return self._sign * self._score_func(y_true, y_pred, **self._kwargs)\n",
      "                        ^^^^^^^^^^^^^^^^^^^^^^^^^^^^^^^^^^^^^^^^^^^^^^^^\n",
      "  File \"c:\\Users\\Felipe\\anaconda3\\envs\\scikit-learn-course\\Lib\\site-packages\\sklearn\\metrics\\_classification.py\", line 1776, in precision_score\n",
      "    p, _, _, _ = precision_recall_fscore_support(\n",
      "                 ^^^^^^^^^^^^^^^^^^^^^^^^^^^^^^^^\n",
      "  File \"c:\\Users\\Felipe\\anaconda3\\envs\\scikit-learn-course\\Lib\\site-packages\\sklearn\\metrics\\_classification.py\", line 1563, in precision_recall_fscore_support\n",
      "    labels = _check_set_wise_labels(y_true, y_pred, average, labels, pos_label)\n",
      "             ^^^^^^^^^^^^^^^^^^^^^^^^^^^^^^^^^^^^^^^^^^^^^^^^^^^^^^^^^^^^^^^^^^\n",
      "  File \"c:\\Users\\Felipe\\anaconda3\\envs\\scikit-learn-course\\Lib\\site-packages\\sklearn\\metrics\\_classification.py\", line 1372, in _check_set_wise_labels\n",
      "    raise ValueError(\n",
      "ValueError: pos_label=1 is not a valid label. It should be one of ['donated', 'not donated']\n",
      "\n",
      "  warnings.warn(\n",
      "c:\\Users\\Felipe\\anaconda3\\envs\\scikit-learn-course\\Lib\\site-packages\\sklearn\\model_selection\\_validation.py:776: UserWarning: Scoring failed. The score on this train-test partition for these parameters will be set to nan. Details: \n",
      "Traceback (most recent call last):\n",
      "  File \"c:\\Users\\Felipe\\anaconda3\\envs\\scikit-learn-course\\Lib\\site-packages\\sklearn\\model_selection\\_validation.py\", line 767, in _score\n",
      "    scores = scorer(estimator, X_test, y_test)\n",
      "             ^^^^^^^^^^^^^^^^^^^^^^^^^^^^^^^^^\n",
      "  File \"c:\\Users\\Felipe\\anaconda3\\envs\\scikit-learn-course\\Lib\\site-packages\\sklearn\\metrics\\_scorer.py\", line 106, in __call__\n",
      "    score = scorer._score(cached_call, estimator, *args, **kwargs)\n",
      "            ^^^^^^^^^^^^^^^^^^^^^^^^^^^^^^^^^^^^^^^^^^^^^^^^^^^^^^\n",
      "  File \"c:\\Users\\Felipe\\anaconda3\\envs\\scikit-learn-course\\Lib\\site-packages\\sklearn\\metrics\\_scorer.py\", line 267, in _score\n",
      "    return self._sign * self._score_func(y_true, y_pred, **self._kwargs)\n",
      "                        ^^^^^^^^^^^^^^^^^^^^^^^^^^^^^^^^^^^^^^^^^^^^^^^^\n",
      "  File \"c:\\Users\\Felipe\\anaconda3\\envs\\scikit-learn-course\\Lib\\site-packages\\sklearn\\metrics\\_classification.py\", line 1776, in precision_score\n",
      "    p, _, _, _ = precision_recall_fscore_support(\n",
      "                 ^^^^^^^^^^^^^^^^^^^^^^^^^^^^^^^^\n",
      "  File \"c:\\Users\\Felipe\\anaconda3\\envs\\scikit-learn-course\\Lib\\site-packages\\sklearn\\metrics\\_classification.py\", line 1563, in precision_recall_fscore_support\n",
      "    labels = _check_set_wise_labels(y_true, y_pred, average, labels, pos_label)\n",
      "             ^^^^^^^^^^^^^^^^^^^^^^^^^^^^^^^^^^^^^^^^^^^^^^^^^^^^^^^^^^^^^^^^^^\n",
      "  File \"c:\\Users\\Felipe\\anaconda3\\envs\\scikit-learn-course\\Lib\\site-packages\\sklearn\\metrics\\_classification.py\", line 1372, in _check_set_wise_labels\n",
      "    raise ValueError(\n",
      "ValueError: pos_label=1 is not a valid label. It should be one of ['donated', 'not donated']\n",
      "\n",
      "  warnings.warn(\n",
      "c:\\Users\\Felipe\\anaconda3\\envs\\scikit-learn-course\\Lib\\site-packages\\sklearn\\model_selection\\_validation.py:776: UserWarning: Scoring failed. The score on this train-test partition for these parameters will be set to nan. Details: \n",
      "Traceback (most recent call last):\n",
      "  File \"c:\\Users\\Felipe\\anaconda3\\envs\\scikit-learn-course\\Lib\\site-packages\\sklearn\\model_selection\\_validation.py\", line 767, in _score\n",
      "    scores = scorer(estimator, X_test, y_test)\n",
      "             ^^^^^^^^^^^^^^^^^^^^^^^^^^^^^^^^^\n",
      "  File \"c:\\Users\\Felipe\\anaconda3\\envs\\scikit-learn-course\\Lib\\site-packages\\sklearn\\metrics\\_scorer.py\", line 106, in __call__\n",
      "    score = scorer._score(cached_call, estimator, *args, **kwargs)\n",
      "            ^^^^^^^^^^^^^^^^^^^^^^^^^^^^^^^^^^^^^^^^^^^^^^^^^^^^^^\n",
      "  File \"c:\\Users\\Felipe\\anaconda3\\envs\\scikit-learn-course\\Lib\\site-packages\\sklearn\\metrics\\_scorer.py\", line 267, in _score\n",
      "    return self._sign * self._score_func(y_true, y_pred, **self._kwargs)\n",
      "                        ^^^^^^^^^^^^^^^^^^^^^^^^^^^^^^^^^^^^^^^^^^^^^^^^\n",
      "  File \"c:\\Users\\Felipe\\anaconda3\\envs\\scikit-learn-course\\Lib\\site-packages\\sklearn\\metrics\\_classification.py\", line 1776, in precision_score\n",
      "    p, _, _, _ = precision_recall_fscore_support(\n",
      "                 ^^^^^^^^^^^^^^^^^^^^^^^^^^^^^^^^\n",
      "  File \"c:\\Users\\Felipe\\anaconda3\\envs\\scikit-learn-course\\Lib\\site-packages\\sklearn\\metrics\\_classification.py\", line 1563, in precision_recall_fscore_support\n",
      "    labels = _check_set_wise_labels(y_true, y_pred, average, labels, pos_label)\n",
      "             ^^^^^^^^^^^^^^^^^^^^^^^^^^^^^^^^^^^^^^^^^^^^^^^^^^^^^^^^^^^^^^^^^^\n",
      "  File \"c:\\Users\\Felipe\\anaconda3\\envs\\scikit-learn-course\\Lib\\site-packages\\sklearn\\metrics\\_classification.py\", line 1372, in _check_set_wise_labels\n",
      "    raise ValueError(\n",
      "ValueError: pos_label=1 is not a valid label. It should be one of ['donated', 'not donated']\n",
      "\n",
      "  warnings.warn(\n",
      "c:\\Users\\Felipe\\anaconda3\\envs\\scikit-learn-course\\Lib\\site-packages\\sklearn\\model_selection\\_validation.py:776: UserWarning: Scoring failed. The score on this train-test partition for these parameters will be set to nan. Details: \n",
      "Traceback (most recent call last):\n",
      "  File \"c:\\Users\\Felipe\\anaconda3\\envs\\scikit-learn-course\\Lib\\site-packages\\sklearn\\model_selection\\_validation.py\", line 767, in _score\n",
      "    scores = scorer(estimator, X_test, y_test)\n",
      "             ^^^^^^^^^^^^^^^^^^^^^^^^^^^^^^^^^\n",
      "  File \"c:\\Users\\Felipe\\anaconda3\\envs\\scikit-learn-course\\Lib\\site-packages\\sklearn\\metrics\\_scorer.py\", line 106, in __call__\n",
      "    score = scorer._score(cached_call, estimator, *args, **kwargs)\n",
      "            ^^^^^^^^^^^^^^^^^^^^^^^^^^^^^^^^^^^^^^^^^^^^^^^^^^^^^^\n",
      "  File \"c:\\Users\\Felipe\\anaconda3\\envs\\scikit-learn-course\\Lib\\site-packages\\sklearn\\metrics\\_scorer.py\", line 267, in _score\n",
      "    return self._sign * self._score_func(y_true, y_pred, **self._kwargs)\n",
      "                        ^^^^^^^^^^^^^^^^^^^^^^^^^^^^^^^^^^^^^^^^^^^^^^^^\n",
      "  File \"c:\\Users\\Felipe\\anaconda3\\envs\\scikit-learn-course\\Lib\\site-packages\\sklearn\\metrics\\_classification.py\", line 1776, in precision_score\n",
      "    p, _, _, _ = precision_recall_fscore_support(\n",
      "                 ^^^^^^^^^^^^^^^^^^^^^^^^^^^^^^^^\n",
      "  File \"c:\\Users\\Felipe\\anaconda3\\envs\\scikit-learn-course\\Lib\\site-packages\\sklearn\\metrics\\_classification.py\", line 1563, in precision_recall_fscore_support\n",
      "    labels = _check_set_wise_labels(y_true, y_pred, average, labels, pos_label)\n",
      "             ^^^^^^^^^^^^^^^^^^^^^^^^^^^^^^^^^^^^^^^^^^^^^^^^^^^^^^^^^^^^^^^^^^\n",
      "  File \"c:\\Users\\Felipe\\anaconda3\\envs\\scikit-learn-course\\Lib\\site-packages\\sklearn\\metrics\\_classification.py\", line 1372, in _check_set_wise_labels\n",
      "    raise ValueError(\n",
      "ValueError: pos_label=1 is not a valid label. It should be one of ['donated', 'not donated']\n",
      "\n",
      "  warnings.warn(\n"
     ]
    }
   ],
   "source": [
    "from sklearn.model_selection import cross_val_score\n",
    "from sklearn.tree import DecisionTreeClassifier\n",
    "\n",
    "tree = DecisionTreeClassifier()\n",
    "try:\n",
    "    scores = cross_val_score(tree, data, target, cv=10, scoring=\"precision\")\n",
    "except ValueError as exc:\n",
    "    print(exc)"
   ]
  },
  {
   "cell_type": "markdown",
   "metadata": {},
   "source": [
    "<div class=\"admonition tip alert alert-warning\">\n",
    "<p class=\"first admonition-title\" style=\"font-weight: bold;\">Tip</p>\n",
    "<p class=\"last\">We catch the exception with a <tt class=\"docutils literal\">try</tt>/<tt class=\"docutils literal\">except</tt> pattern to be able to print it.</p>\n",
    "</div>\n",
    "We get an exception because the default scorer has its positive label set to\n",
    "one (`pos_label=1`), which is not our case (our positive label is \"donated\").\n",
    "In this case, we need to create a scorer using the scoring function and the\n",
    "helper function `make_scorer`.\n",
    "\n",
    "So, import `sklearn.metrics.make_scorer` and\n",
    "`sklearn.metrics.precision_score`. Check their documentations for more\n",
    "information.\n",
    "Finally, create a scorer by calling `make_scorer` using the score function\n",
    "`precision_score` and pass the extra parameter `pos_label=\"donated\"`."
   ]
  },
  {
   "cell_type": "code",
   "execution_count": 6,
   "metadata": {},
   "outputs": [],
   "source": [
    "# Write your code here.\n",
    "from sklearn.metrics import make_scorer, precision_score\n",
    "\n",
    "scorer = make_scorer(precision_score, pos_label=\"donated\")"
   ]
  },
  {
   "cell_type": "markdown",
   "metadata": {},
   "source": [
    "Now, instead of providing the string `\"precision\"` to the `scoring` parameter\n",
    "in the `cross_val_score` call, pass the scorer that you created above."
   ]
  },
  {
   "cell_type": "code",
   "execution_count": 7,
   "metadata": {},
   "outputs": [
    {
     "name": "stdout",
     "output_type": "stream",
     "text": [
      "Precision score: 0.262 ± 0.183\n"
     ]
    }
   ],
   "source": [
    "# Write your code here.\n",
    "tree = DecisionTreeClassifier()\n",
    "\n",
    "scores = cross_val_score(tree, data, target, cv=10, scoring=scorer)\n",
    "print(f\"Precision score: {scores.mean():.3f} ± {scores.std():.3f}\")"
   ]
  },
  {
   "cell_type": "markdown",
   "metadata": {},
   "source": [
    "`cross_val_score` will only compute a single score provided to the `scoring`\n",
    "parameter. The function `cross_validate` allows the computation of multiple\n",
    "scores by passing a list of string or scorer to the parameter `scoring`,\n",
    "which could be handy.\n",
    "\n",
    "Import `sklearn.model_selection.cross_validate` and compute the accuracy and\n",
    "balanced accuracy through cross-validation. Plot the cross-validation score\n",
    "for both metrics using a box plot."
   ]
  },
  {
   "cell_type": "code",
   "execution_count": 8,
   "metadata": {},
   "outputs": [
    {
     "data": {
      "text/plain": [
       "{'fit_time': array([0.00200176, 0.00100112, 0.00100017, 0.00100064, 0.002002  ]),\n",
       " 'score_time': array([0.00100207, 0.00100088, 0.00100064, 0.00100112, 0.00100088]),\n",
       " 'test_accuracy': array([0.41333333, 0.62666667, 0.6       , 0.70469799, 0.68456376]),\n",
       " 'test_balanced_accuracy': array([0.4619883 , 0.49780702, 0.41374269, 0.61892231, 0.49686717])}"
      ]
     },
     "execution_count": 8,
     "metadata": {},
     "output_type": "execute_result"
    }
   ],
   "source": [
    "# Write your code here.\n",
    "from sklearn.model_selection import cross_validate\n",
    "\n",
    "tree = DecisionTreeClassifier()\n",
    "cv_results = cross_validate(tree, data, target, scoring=[\"accuracy\", \"balanced_accuracy\"])\n",
    "cv_results"
   ]
  },
  {
   "cell_type": "code",
   "execution_count": 9,
   "id": "84c2d75c",
   "metadata": {},
   "outputs": [],
   "source": [
    "import pandas as pd\n",
    "\n",
    "color = {\"whiskers\": \"black\", \"medians\": \"black\", \"caps\": \"black\"}\n",
    "\n",
    "metrics = pd.DataFrame(\n",
    "    [cv_results[\"test_accuracy\"], cv_results[\"test_balanced_accuracy\"]],\n",
    "    index=[\"Accuracy\", \"Balanced accuracy\"]\n",
    ").T"
   ]
  },
  {
   "cell_type": "code",
   "execution_count": 10,
   "id": "abbe4e75",
   "metadata": {},
   "outputs": [
    {
     "data": {
      "image/png": "[encoded data removed]",
      "text/plain": [
       "<Figure size 640x480 with 1 Axes>"
      ]
     },
     "metadata": {},
     "output_type": "display_data"
    }
   ],
   "source": [
    "import matplotlib.pyplot as plt\n",
    "\n",
    "metrics.plot.box(vert=False, color=color)\n",
    "_ = plt.title(\"Computation of multiple scores using cross_validate\")"
   ]
  },
  {
   "cell_type": "code",
   "execution_count": null,
   "id": "a71c8dc7",
   "metadata": {},
   "outputs": [],
   "source": []
  }
 ],
 "metadata": {
  "jupytext": {
   "encoding": "# -*- coding: utf-8 -*-",
   "main_language": "python"
  },
  "kernelspec": {
   "display_name": "Python 3.11.0 ('scikit-learn-course')",
   "language": "python",
   "name": "python3"
  },
  "language_info": {
   "codemirror_mode": {
    "name": "ipython",
    "version": 3
   },
   "file_extension": ".py",
   "mimetype": "text/x-python",
   "name": "python",
   "nbconvert_exporter": "python",
   "pygments_lexer": "ipython3",
   "version": "3.11.0"
  },
  "vscode": {
   "interpreter": {
    "hash": "8942af3593e38a1d7551d1d4829a6263118fe09fab019ffdf9f9fb82205b20e3"
   }
  }
 },
 "nbformat": 4,
 "nbformat_minor": 5
}
